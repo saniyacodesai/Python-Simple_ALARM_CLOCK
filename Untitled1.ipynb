{
  "nbformat": 4,
  "nbformat_minor": 0,
  "metadata": {
    "colab": {
      "provenance": []
    },
    "kernelspec": {
      "name": "python3",
      "display_name": "Python 3"
    },
    "language_info": {
      "name": "python"
    }
  },
  "cells": [
    {
      "cell_type": "code",
      "execution_count": null,
      "metadata": {
        "colab": {
          "base_uri": "https://localhost:8080/"
        },
        "id": "vXZ0mFUydHhL",
        "outputId": "8ee43f80-5e55-4d51-8e10-d8b8a7d49fac"
      },
      "outputs": [
        {
          "output_type": "stream",
          "name": "stdout",
          "text": [
            "Set alarm time (HH:MM 24-hour format): 20:20\n",
            "Alarm set for 20:20. Waiting...\n"
          ]
        }
      ],
      "source": [
        "import os\n",
        "from datetime import datetime\n",
        "import time\n",
        "\n",
        "try:\n",
        "    from playsound import playsound\n",
        "except ImportError:\n",
        "    playsound = None\n",
        "\n",
        "alarm_time = input(\"Set alarm time (HH:MM 24-hour format): \")\n",
        "sound_file = \"alarm.mp3\"\n",
        "\n",
        "print(f\"Alarm set for {alarm_time}. Waiting...\")\n",
        "\n",
        "while True:\n",
        "    current_time = datetime.now().strftime(\"%H:%M\")\n",
        "    if current_time == alarm_time:\n",
        "        print(\"⏰ Wake up! Alarm ringing!\")\n",
        "        if playsound and os.path.exists(sound_file):\n",
        "            playsound(sound_file)\n",
        "        else:\n",
        "            # Simple beep fallback (Windows only)\n",
        "            import winsound\n",
        "            for i in range(5):\n",
        "                winsound.Beep(1000, 500)\n",
        "        break\n",
        "    time.sleep(5)"
      ]
    }
  ]
}